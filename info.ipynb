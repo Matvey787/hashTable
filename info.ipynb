{
 "cells": [
  {
   "cell_type": "markdown",
   "id": "fbb99cc7",
   "metadata": {},
   "source": [
    "# HASH Table\n",
    "## Что такое Hash Table?\n",
    "Хеш таблица — это структура данных, которая хранит пары ключ-значение. Ключ в нашем случае это строка, а значение — это адрес в памяти, где хранится значение. По ключу можно узнать bucket, в котором хранится значение, однако при коллизии приходится дополнительно идти по списку bucketа, чтобы найти нужное значение. \n"
   ]
  },
  {
   "cell_type": "markdown",
   "id": "af39b5c8",
   "metadata": {},
   "source": [
    "![hashTable_normalSituation](imgs/hashTable_normalSituation.svg)"
   ]
  },
  {
   "cell_type": "markdown",
   "id": "83e76fb4",
   "metadata": {},
   "source": [
    "Коллизия — это ситуация, когда два ключа имеют одинаковый хэш. В таком случае два слова могут попасть в один bucket. Пэтому bucket — это список, в котором хранятся все значения, имеющие одинаковый хэш. У меня bucket - это двусвязный список. Можно было сделать односвязный список, но в скорости удаления элемента он проигрывает."
   ]
  },
  {
   "cell_type": "markdown",
   "id": "ba0ae44a",
   "metadata": {},
   "source": [
    "![hashTable_collision](imgs/hashTable_collision.svg)"
   ]
  },
  {
   "cell_type": "markdown",
   "id": "c0cd986d",
   "metadata": {},
   "source": [
    "## Оптимизации\n",
    "### 1. Переключение с `-O0` на `-O2`\n",
    "<style>\n",
    ".highlight-box {\n",
    "    color: #2ecc71; /* Зелёный цвет текста */\n",
    "    font-weight: bold; /* Жирный шрифт */\n",
    "}\n",
    "</style>\n",
    "\n",
    "Самая простая и очевидная оптимизация это включить оптимизацию компилятора `-O2`. Это позволяет компилятору использовать более эффективные алгоритмы.  \n",
    "В таком случае получем следующую информацию сравнения:\n",
    "<details>\n",
    "<summary>Click to show comparison</summary>  \n",
    "\n",
    "Первое число - `-O2`, второе число - `-O0`  \n",
    "\n",
    "**Time**  \n",
    "\n",
    "`Elapsed Time`:\t0.393s - 0.380s = 0.013s  \n",
    "`CPU Time`:\t0.345s - 0.359s = -0.014s  \n",
    "\n",
    "**Hardware Events**  \n",
    "\n",
    "| Hardware Event Type | Hardware Event Count  | Hardware Event Sample Count\t| Events Per Sample | Precise |\n",
    "|---------------------|-----------------------|-----------------------------|-------------------|---------|\n",
    "|cycles\t| 828,806,417 - 861,866,547 = -33,060,130 | 1,589 - 1,536 = 53 | 4000 | Not changed, False |\n",
    "\n",
    "**Вкладка Caller/Calle**  \n",
    "\n",
    "![compare-O2and-O0](imgs/compare-O2and-O0.png)\n",
    "\n",
    "</details>  \n",
    "\n",
    "<div class=\"highlight-box\">Процессорное время уменьшилось на 3.3 %, что достаточно хороший результат.</div>\n",
    "\n",
    "### 2. Добавление SIMD instructions\n",
    "Из предыдущего пункта видно, что много тактов процессора уходит на вызов функции `strcmp`, которая находится в `searchHT`. Это можно исправить, если использовать SIMD instructions. "
   ]
  }
 ],
 "metadata": {
  "language_info": {
   "name": "python"
  }
 },
 "nbformat": 4,
 "nbformat_minor": 5
}
